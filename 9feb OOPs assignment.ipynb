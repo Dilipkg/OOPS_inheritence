{
 "cells": [
  {
   "cell_type": "code",
   "execution_count": 3,
   "id": "16ec511f-de35-4cea-8616-5677625950cd",
   "metadata": {},
   "outputs": [],
   "source": [
    "class Vehicle:\n",
    "    \n",
    "    def __init__(self,name_of_vehicle,max_speed,average_of_vehicle ):\n",
    "        self.name_of_vehicle=name_of_vehicle\n",
    "        self.max_speed=max_speed\n",
    "        self.average_of_vehicle=average_of_vehicle"
   ]
  },
  {
   "cell_type": "code",
   "execution_count": 4,
   "id": "ce97ae91-87d4-46f6-a79a-dea7ecb9e1df",
   "metadata": {},
   "outputs": [
    {
     "name": "stdout",
     "output_type": "stream",
     "text": [
      "Vehicle name: MyCar- Seating capacity: 5\n"
     ]
    }
   ],
   "source": [
    "class Car(Vehicle):\n",
    "    def seating_capacity( self,capacity):\n",
    "        return f\"Vehicle name: {self.name_of_vehicle}- Seating capacity: {capacity}\"\n",
    "\n",
    "car_obj = Car(\"MyCar\",233,464)\n",
    "\n",
    "seating_capacity= car_obj.seating_capacity(5)\n",
    "print(seating_capacity)"
   ]
  },
  {
   "cell_type": "markdown",
   "id": "ffbb0127-4921-4612-bb74-a74ebaa9f5d2",
   "metadata": {},
   "source": [
    "Q3.\n",
    "if a child class inherits form more than one class e.g. this child class is drived from multiple classese, we call it multiple inheritance. "
   ]
  },
  {
   "cell_type": "code",
   "execution_count": 22,
   "id": "db9d5920-be65-4236-a7e5-df6e7cbdac0e",
   "metadata": {},
   "outputs": [
    {
     "name": "stdout",
     "output_type": "stream",
     "text": [
      "In Class4\n",
      "In Class2\n",
      "In Class3\n",
      "In Class1\n"
     ]
    }
   ],
   "source": [
    "class Class1:\n",
    "    def m(self):\n",
    "        print(\"In Class1\")\n",
    "class Class2(Class1):\n",
    "    def m(self):\n",
    "        print(\"In Class2\")\n",
    "        super().m()\n",
    "class Class3(Class1):\n",
    "    def m(self):\n",
    "        print(\"In Class3\")\n",
    "        super().m()\n",
    "class Class4(Class2, Class3):\n",
    "    def m(self):\n",
    "        print(\"In Class4\")  \n",
    "        super().m()\n",
    "obj = Class4()\n",
    "obj.m()"
   ]
  },
  {
   "cell_type": "markdown",
   "id": "7dd32b75-374e-41e8-a01b-e2776d482b04",
   "metadata": {},
   "source": [
    "Q4. \n",
    "getter a method that allow you to access an attribute in given class. and setter method that allow you to set or mutate the value of an attribute in a class.\n",
    "\n",
    "class car:\n",
    "    def __init__(self,year,make,model,speed):\n",
    "        self.__year=year\n",
    "        self.__make=make\n",
    "        self.__make=model\n",
    "        self.__speed=0\n",
    "    def set_speed(self,speed):\n",
    "        self.speed= 0 if speed < 0 else speed\n",
    "    def get_speed(self):\n",
    "        return self.__speed"
   ]
  },
  {
   "cell_type": "markdown",
   "id": "bdbed958-882e-4168-8c56-790bf9520e32",
   "metadata": {},
   "source": [
    "Q5\n",
    "overriding is a feature of oops language where the subclass pr child class can provided the program with specific characteristic or a specific implement process of data provided that are already defined in parent class or supperclass.\n",
    "\n",
    "class dilip():\n",
    "    def result(self):\n",
    "        return \"1 division pass\"\n",
    "    def assignment(self):\n",
    "        return \"complete\"\n",
    "class krishana():\n",
    "    def result(self):\n",
    "        return \"fail\"\n",
    "    def assignment (self):\n",
    "        return\"not completed \""
   ]
  }
 ],
 "metadata": {
  "kernelspec": {
   "display_name": "Python 3 (ipykernel)",
   "language": "python",
   "name": "python3"
  },
  "language_info": {
   "codemirror_mode": {
    "name": "ipython",
    "version": 3
   },
   "file_extension": ".py",
   "mimetype": "text/x-python",
   "name": "python",
   "nbconvert_exporter": "python",
   "pygments_lexer": "ipython3",
   "version": "3.10.8"
  }
 },
 "nbformat": 4,
 "nbformat_minor": 5
}
